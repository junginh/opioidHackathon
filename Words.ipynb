{
 "cells": [
  {
   "cell_type": "code",
   "execution_count": 1,
   "metadata": {},
   "outputs": [],
   "source": [
    "import numpy as np\n",
    "import pandas as pd\n",
    "from sklearn.model_selection import KFold\n",
    "from sklearn.linear_model import LinearRegression, SGDRegressor\n",
    "from sklearn.linear_model import LogisticRegression, Lasso\n",
    "from sklearn.metrics import r2_score, accuracy_score, mean_squared_error\n",
    "from sklearn.model_selection import train_test_split\n",
    "from sklearn.datasets import make_regression\n",
    "from sklearn.ensemble import RandomForestRegressor\n",
    "from sklearn.gaussian_process import GaussianProcessRegressor\n",
    "from sklearn.neural_network import MLPRegressor\n",
    "import seaborn as sns\n",
    "import matplotlib.pyplot as plt\n",
    "from math import sqrt"
   ]
  },
  {
   "cell_type": "code",
   "execution_count": 2,
   "metadata": {},
   "outputs": [
    {
     "name": "stdout",
     "output_type": "stream",
     "text": [
      "(41, 315)\n"
     ]
    },
    {
     "data": {
      "text/html": [
       "<div>\n",
       "<style scoped>\n",
       "    .dataframe tbody tr th:only-of-type {\n",
       "        vertical-align: middle;\n",
       "    }\n",
       "\n",
       "    .dataframe tbody tr th {\n",
       "        vertical-align: top;\n",
       "    }\n",
       "\n",
       "    .dataframe thead th {\n",
       "        text-align: right;\n",
       "    }\n",
       "</style>\n",
       "<table border=\"1\" class=\"dataframe\">\n",
       "  <thead>\n",
       "    <tr style=\"text-align: right;\">\n",
       "      <th></th>\n",
       "      <th>high</th>\n",
       "      <th>buzz</th>\n",
       "      <th>buzzed</th>\n",
       "      <th>sky</th>\n",
       "      <th>cloud</th>\n",
       "      <th>clouds</th>\n",
       "      <th>stoned</th>\n",
       "      <th>ripped</th>\n",
       "      <th>tipsy</th>\n",
       "      <th>wasted</th>\n",
       "      <th>...</th>\n",
       "      <th>vanity</th>\n",
       "      <th>vexed</th>\n",
       "      <th>wary</th>\n",
       "      <th>weary</th>\n",
       "      <th>woe</th>\n",
       "      <th>wonder</th>\n",
       "      <th>worried</th>\n",
       "      <th>zest</th>\n",
       "      <th>Time</th>\n",
       "      <th>Death</th>\n",
       "    </tr>\n",
       "  </thead>\n",
       "  <tbody>\n",
       "    <tr>\n",
       "      <th>0</th>\n",
       "      <td>0.000318</td>\n",
       "      <td>0.000000</td>\n",
       "      <td>0.000024</td>\n",
       "      <td>0.000037</td>\n",
       "      <td>0.000012</td>\n",
       "      <td>0.000024</td>\n",
       "      <td>0.000024</td>\n",
       "      <td>0.000012</td>\n",
       "      <td>0.000012</td>\n",
       "      <td>0.000024</td>\n",
       "      <td>...</td>\n",
       "      <td>0.000024</td>\n",
       "      <td>0.0</td>\n",
       "      <td>0.000000</td>\n",
       "      <td>0.000000</td>\n",
       "      <td>0.000000</td>\n",
       "      <td>0.000147</td>\n",
       "      <td>0.000049</td>\n",
       "      <td>0.0</td>\n",
       "      <td>2015-11</td>\n",
       "      <td>52386</td>\n",
       "    </tr>\n",
       "    <tr>\n",
       "      <th>1</th>\n",
       "      <td>0.000540</td>\n",
       "      <td>0.000012</td>\n",
       "      <td>0.000000</td>\n",
       "      <td>0.000037</td>\n",
       "      <td>0.000012</td>\n",
       "      <td>0.000025</td>\n",
       "      <td>0.000012</td>\n",
       "      <td>0.000061</td>\n",
       "      <td>0.000012</td>\n",
       "      <td>0.000012</td>\n",
       "      <td>...</td>\n",
       "      <td>0.000000</td>\n",
       "      <td>0.0</td>\n",
       "      <td>0.000000</td>\n",
       "      <td>0.000000</td>\n",
       "      <td>0.000000</td>\n",
       "      <td>0.000147</td>\n",
       "      <td>0.000074</td>\n",
       "      <td>0.0</td>\n",
       "      <td>2015-12</td>\n",
       "      <td>52623</td>\n",
       "    </tr>\n",
       "    <tr>\n",
       "      <th>2</th>\n",
       "      <td>0.000380</td>\n",
       "      <td>0.000012</td>\n",
       "      <td>0.000000</td>\n",
       "      <td>0.000074</td>\n",
       "      <td>0.000024</td>\n",
       "      <td>0.000024</td>\n",
       "      <td>0.000000</td>\n",
       "      <td>0.000012</td>\n",
       "      <td>0.000000</td>\n",
       "      <td>0.000012</td>\n",
       "      <td>...</td>\n",
       "      <td>0.000012</td>\n",
       "      <td>0.0</td>\n",
       "      <td>0.000012</td>\n",
       "      <td>0.000000</td>\n",
       "      <td>0.000000</td>\n",
       "      <td>0.000196</td>\n",
       "      <td>0.000012</td>\n",
       "      <td>0.0</td>\n",
       "      <td>2016-01</td>\n",
       "      <td>52902</td>\n",
       "    </tr>\n",
       "    <tr>\n",
       "      <th>3</th>\n",
       "      <td>0.000431</td>\n",
       "      <td>0.000024</td>\n",
       "      <td>0.000036</td>\n",
       "      <td>0.000060</td>\n",
       "      <td>0.000024</td>\n",
       "      <td>0.000024</td>\n",
       "      <td>0.000000</td>\n",
       "      <td>0.000024</td>\n",
       "      <td>0.000000</td>\n",
       "      <td>0.000036</td>\n",
       "      <td>...</td>\n",
       "      <td>0.000000</td>\n",
       "      <td>0.0</td>\n",
       "      <td>0.000000</td>\n",
       "      <td>0.000000</td>\n",
       "      <td>0.000000</td>\n",
       "      <td>0.000144</td>\n",
       "      <td>0.000048</td>\n",
       "      <td>0.0</td>\n",
       "      <td>2016-02</td>\n",
       "      <td>53834</td>\n",
       "    </tr>\n",
       "    <tr>\n",
       "      <th>4</th>\n",
       "      <td>0.000454</td>\n",
       "      <td>0.000023</td>\n",
       "      <td>0.000000</td>\n",
       "      <td>0.000035</td>\n",
       "      <td>0.000012</td>\n",
       "      <td>0.000035</td>\n",
       "      <td>0.000000</td>\n",
       "      <td>0.000012</td>\n",
       "      <td>0.000012</td>\n",
       "      <td>0.000035</td>\n",
       "      <td>...</td>\n",
       "      <td>0.000000</td>\n",
       "      <td>0.0</td>\n",
       "      <td>0.000000</td>\n",
       "      <td>0.000000</td>\n",
       "      <td>0.000000</td>\n",
       "      <td>0.000117</td>\n",
       "      <td>0.000023</td>\n",
       "      <td>0.0</td>\n",
       "      <td>2016-03</td>\n",
       "      <td>54781</td>\n",
       "    </tr>\n",
       "    <tr>\n",
       "      <th>5</th>\n",
       "      <td>0.000442</td>\n",
       "      <td>0.000012</td>\n",
       "      <td>0.000000</td>\n",
       "      <td>0.000036</td>\n",
       "      <td>0.000012</td>\n",
       "      <td>0.000000</td>\n",
       "      <td>0.000012</td>\n",
       "      <td>0.000000</td>\n",
       "      <td>0.000012</td>\n",
       "      <td>0.000012</td>\n",
       "      <td>...</td>\n",
       "      <td>0.000000</td>\n",
       "      <td>0.0</td>\n",
       "      <td>0.000000</td>\n",
       "      <td>0.000000</td>\n",
       "      <td>0.000012</td>\n",
       "      <td>0.000167</td>\n",
       "      <td>0.000012</td>\n",
       "      <td>0.0</td>\n",
       "      <td>2016-04</td>\n",
       "      <td>55763</td>\n",
       "    </tr>\n",
       "    <tr>\n",
       "      <th>6</th>\n",
       "      <td>0.000372</td>\n",
       "      <td>0.000024</td>\n",
       "      <td>0.000012</td>\n",
       "      <td>0.000108</td>\n",
       "      <td>0.000012</td>\n",
       "      <td>0.000084</td>\n",
       "      <td>0.000000</td>\n",
       "      <td>0.000012</td>\n",
       "      <td>0.000000</td>\n",
       "      <td>0.000024</td>\n",
       "      <td>...</td>\n",
       "      <td>0.000000</td>\n",
       "      <td>0.0</td>\n",
       "      <td>0.000000</td>\n",
       "      <td>0.000000</td>\n",
       "      <td>0.000000</td>\n",
       "      <td>0.000144</td>\n",
       "      <td>0.000072</td>\n",
       "      <td>0.0</td>\n",
       "      <td>2016-05</td>\n",
       "      <td>56465</td>\n",
       "    </tr>\n",
       "    <tr>\n",
       "      <th>7</th>\n",
       "      <td>0.000580</td>\n",
       "      <td>0.000000</td>\n",
       "      <td>0.000000</td>\n",
       "      <td>0.000048</td>\n",
       "      <td>0.000024</td>\n",
       "      <td>0.000206</td>\n",
       "      <td>0.000024</td>\n",
       "      <td>0.000024</td>\n",
       "      <td>0.000000</td>\n",
       "      <td>0.000048</td>\n",
       "      <td>...</td>\n",
       "      <td>0.000012</td>\n",
       "      <td>0.0</td>\n",
       "      <td>0.000000</td>\n",
       "      <td>0.000000</td>\n",
       "      <td>0.000000</td>\n",
       "      <td>0.000121</td>\n",
       "      <td>0.000060</td>\n",
       "      <td>0.0</td>\n",
       "      <td>2016-06</td>\n",
       "      <td>57428</td>\n",
       "    </tr>\n",
       "    <tr>\n",
       "      <th>8</th>\n",
       "      <td>0.000294</td>\n",
       "      <td>0.000000</td>\n",
       "      <td>0.000000</td>\n",
       "      <td>0.000047</td>\n",
       "      <td>0.000000</td>\n",
       "      <td>0.000035</td>\n",
       "      <td>0.000012</td>\n",
       "      <td>0.000000</td>\n",
       "      <td>0.000000</td>\n",
       "      <td>0.000012</td>\n",
       "      <td>...</td>\n",
       "      <td>0.000000</td>\n",
       "      <td>0.0</td>\n",
       "      <td>0.000000</td>\n",
       "      <td>0.000012</td>\n",
       "      <td>0.000012</td>\n",
       "      <td>0.000153</td>\n",
       "      <td>0.000047</td>\n",
       "      <td>0.0</td>\n",
       "      <td>2016-07</td>\n",
       "      <td>58525</td>\n",
       "    </tr>\n",
       "    <tr>\n",
       "      <th>9</th>\n",
       "      <td>0.000443</td>\n",
       "      <td>0.000012</td>\n",
       "      <td>0.000000</td>\n",
       "      <td>0.000093</td>\n",
       "      <td>0.000023</td>\n",
       "      <td>0.000035</td>\n",
       "      <td>0.000000</td>\n",
       "      <td>0.000012</td>\n",
       "      <td>0.000000</td>\n",
       "      <td>0.000023</td>\n",
       "      <td>...</td>\n",
       "      <td>0.000000</td>\n",
       "      <td>0.0</td>\n",
       "      <td>0.000000</td>\n",
       "      <td>0.000000</td>\n",
       "      <td>0.000000</td>\n",
       "      <td>0.000187</td>\n",
       "      <td>0.000023</td>\n",
       "      <td>0.0</td>\n",
       "      <td>2016-08</td>\n",
       "      <td>59417</td>\n",
       "    </tr>\n",
       "  </tbody>\n",
       "</table>\n",
       "<p>10 rows × 264 columns</p>\n",
       "</div>"
      ],
      "text/plain": [
       "       high      buzz    buzzed       sky     cloud    clouds    stoned  \\\n",
       "0  0.000318  0.000000  0.000024  0.000037  0.000012  0.000024  0.000024   \n",
       "1  0.000540  0.000012  0.000000  0.000037  0.000012  0.000025  0.000012   \n",
       "2  0.000380  0.000012  0.000000  0.000074  0.000024  0.000024  0.000000   \n",
       "3  0.000431  0.000024  0.000036  0.000060  0.000024  0.000024  0.000000   \n",
       "4  0.000454  0.000023  0.000000  0.000035  0.000012  0.000035  0.000000   \n",
       "5  0.000442  0.000012  0.000000  0.000036  0.000012  0.000000  0.000012   \n",
       "6  0.000372  0.000024  0.000012  0.000108  0.000012  0.000084  0.000000   \n",
       "7  0.000580  0.000000  0.000000  0.000048  0.000024  0.000206  0.000024   \n",
       "8  0.000294  0.000000  0.000000  0.000047  0.000000  0.000035  0.000012   \n",
       "9  0.000443  0.000012  0.000000  0.000093  0.000023  0.000035  0.000000   \n",
       "\n",
       "     ripped     tipsy    wasted  ...      vanity  vexed      wary     weary  \\\n",
       "0  0.000012  0.000012  0.000024  ...    0.000024    0.0  0.000000  0.000000   \n",
       "1  0.000061  0.000012  0.000012  ...    0.000000    0.0  0.000000  0.000000   \n",
       "2  0.000012  0.000000  0.000012  ...    0.000012    0.0  0.000012  0.000000   \n",
       "3  0.000024  0.000000  0.000036  ...    0.000000    0.0  0.000000  0.000000   \n",
       "4  0.000012  0.000012  0.000035  ...    0.000000    0.0  0.000000  0.000000   \n",
       "5  0.000000  0.000012  0.000012  ...    0.000000    0.0  0.000000  0.000000   \n",
       "6  0.000012  0.000000  0.000024  ...    0.000000    0.0  0.000000  0.000000   \n",
       "7  0.000024  0.000000  0.000048  ...    0.000012    0.0  0.000000  0.000000   \n",
       "8  0.000000  0.000000  0.000012  ...    0.000000    0.0  0.000000  0.000012   \n",
       "9  0.000012  0.000000  0.000023  ...    0.000000    0.0  0.000000  0.000000   \n",
       "\n",
       "        woe    wonder   worried  zest     Time  Death  \n",
       "0  0.000000  0.000147  0.000049   0.0  2015-11  52386  \n",
       "1  0.000000  0.000147  0.000074   0.0  2015-12  52623  \n",
       "2  0.000000  0.000196  0.000012   0.0  2016-01  52902  \n",
       "3  0.000000  0.000144  0.000048   0.0  2016-02  53834  \n",
       "4  0.000000  0.000117  0.000023   0.0  2016-03  54781  \n",
       "5  0.000012  0.000167  0.000012   0.0  2016-04  55763  \n",
       "6  0.000000  0.000144  0.000072   0.0  2016-05  56465  \n",
       "7  0.000000  0.000121  0.000060   0.0  2016-06  57428  \n",
       "8  0.000012  0.000153  0.000047   0.0  2016-07  58525  \n",
       "9  0.000000  0.000187  0.000023   0.0  2016-08  59417  \n",
       "\n",
       "[10 rows x 264 columns]"
      ]
     },
     "execution_count": 2,
     "metadata": {},
     "output_type": "execute_result"
    }
   ],
   "source": [
    "data = pd.read_csv(\"Matrix.csv\")\n",
    "drop_list = ['Unnamed: 0']\n",
    "print(data.shape)\n",
    "for word in data.columns[:-2]:\n",
    "    if sum(data[word]) == 0:\n",
    "        drop_list.append(word)\n",
    "data = data.drop(drop_list, axis = 1)\n",
    "data.head(10)"
   ]
  },
  {
   "cell_type": "code",
   "execution_count": 3,
   "metadata": {},
   "outputs": [
    {
     "data": {
      "text/plain": [
       "happy            0.823371\n",
       "sleep            0.775933\n",
       "love             0.748141\n",
       "like             0.570817\n",
       "proud            0.560203\n",
       "mad              0.512197\n",
       "hurt             0.445481\n",
       "content          0.431555\n",
       "crazy            0.429103\n",
       "sky              0.413345\n",
       "aggravation      0.402089\n",
       "scared           0.384554\n",
       "drugged          0.382008\n",
       "rage             0.380278\n",
       "fury             0.369668\n",
       "nirvana          0.357038\n",
       "frustrate        0.354544\n",
       "fried            0.353257\n",
       "dope             0.352471\n",
       "anxiety          0.344002\n",
       "embarrassment    0.342515\n",
       "sympathy         0.341472\n",
       "vain             0.329736\n",
       "open             0.328813\n",
       "contentment      0.324667\n",
       "elation          0.324667\n",
       "jealous          0.323273\n",
       "enthusiasm       0.316801\n",
       "annoying         0.315923\n",
       "alarm            0.311851\n",
       "passion          0.309549\n",
       "irritated        0.308615\n",
       "clouds           0.306781\n",
       "homesick         0.299481\n",
       "relief           0.296835\n",
       "shame            0.293257\n",
       "enraptured       0.292372\n",
       "suffering        0.290512\n",
       "relieved         0.288919\n",
       "enamored         0.282213\n",
       "kindly           0.279402\n",
       "enchanted        0.279180\n",
       "loaded           0.278157\n",
       "earnest          0.274918\n",
       "complacent       0.273772\n",
       "buzzed           0.273061\n",
       "thrill           0.269468\n",
       "pleased          0.269115\n",
       "placid           0.268851\n",
       "ornery           0.267117\n",
       "Name: Death, dtype: float64"
      ]
     },
     "execution_count": 3,
     "metadata": {},
     "output_type": "execute_result"
    }
   ],
   "source": [
    "cor_vec = data.corr()['Death'][:-1]\n",
    "#for i in range(cor_vec.shape[0]):\n",
    "    \n",
    "top_index = cor_vec.abs().sort_values(ascending = False)[:50].index\n",
    "cor_vec.abs().sort_values(ascending = False)[:50]"
   ]
  },
  {
   "cell_type": "code",
   "execution_count": 4,
   "metadata": {},
   "outputs": [
    {
     "data": {
      "image/png": "[encoded data removed]",
      "text/plain": [
       "<Figure size 2520x2520 with 2 Axes>"
      ]
     },
     "metadata": {
      "needs_background": "light"
     },
     "output_type": "display_data"
    }
   ],
   "source": [
    "mat_index = list(top_index)\n",
    "mat_index.append(\"Death\")\n",
    "mat_index = pd.Index(mat_index)\n",
    "cor_mat = data[mat_index].corr()\n",
    "plt.figure(figsize = (35,35))\n",
    "ax = sns.heatmap(cor_mat, center = 0, cmap = \"RdBu_r\")"
   ]
  },
  {
   "cell_type": "code",
   "execution_count": 5,
   "metadata": {},
   "outputs": [],
   "source": [
    "X = data[top_index]\n",
    "Death = data[\"Death\"]"
   ]
  },
  {
   "cell_type": "code",
   "execution_count": 6,
   "metadata": {},
   "outputs": [
    {
     "data": {
      "image/png": "[encoded data removed]",
      "text/plain": [
       "<Figure size 432x288 with 1 Axes>"
      ]
     },
     "metadata": {
      "needs_background": "light"
     },
     "output_type": "display_data"
    }
   ],
   "source": [
    "plt.scatter(data['happy']*10000000, data['Death'])\n",
    "plt.show()"
   ]
  },
  {
   "cell_type": "code",
   "execution_count": 7,
   "metadata": {},
   "outputs": [
    {
     "data": {
      "image/png": "[encoded data removed]",
      "text/plain": [
       "<Figure size 432x288 with 1 Axes>"
      ]
     },
     "metadata": {
      "needs_background": "light"
     },
     "output_type": "display_data"
    }
   ],
   "source": [
    "plt.scatter(data['sleep']*10000000, data['Death'])\n",
    "plt.show()"
   ]
  },
  {
   "cell_type": "code",
   "execution_count": 8,
   "metadata": {},
   "outputs": [
    {
     "data": {
      "image/png": "[encoded data removed]",
      "text/plain": [
       "<Figure size 432x288 with 1 Axes>"
      ]
     },
     "metadata": {
      "needs_background": "light"
     },
     "output_type": "display_data"
    }
   ],
   "source": [
    "plt.scatter(data['love']*10000000, data['Death'])\n",
    "plt.show()"
   ]
  },
  {
   "cell_type": "code",
   "execution_count": 9,
   "metadata": {},
   "outputs": [
    {
     "data": {
      "image/png": "[encoded data removed]",
      "text/plain": [
       "<Figure size 432x288 with 1 Axes>"
      ]
     },
     "metadata": {
      "needs_background": "light"
     },
     "output_type": "display_data"
    }
   ],
   "source": [
    "plt.scatter(data['like']*10000000, data['Death'])\n",
    "plt.show()"
   ]
  },
  {
   "cell_type": "code",
   "execution_count": 10,
   "metadata": {},
   "outputs": [
    {
     "data": {
      "image/png": "[encoded data removed]",
      "text/plain": [
       "<Figure size 432x288 with 1 Axes>"
      ]
     },
     "metadata": {
      "needs_background": "light"
     },
     "output_type": "display_data"
    }
   ],
   "source": [
    "plt.scatter(data['mad']*10000000, data['Death'])\n",
    "plt.show()"
   ]
  },
  {
   "cell_type": "markdown",
   "metadata": {},
   "source": [
    "It shows pattern in of the above plots which is skewed. So we may discover about possible transformation that may fit the data to pre-process it in order to suit regression models better."
   ]
  },
  {
   "cell_type": "code",
   "execution_count": 11,
   "metadata": {},
   "outputs": [],
   "source": [
    "X_train, X_test, y_train, y_test = train_test_split(\n",
    "    X[['happy']]*100, Death, train_size = 0.8, test_size = 0.2, random_state = 0)"
   ]
  },
  {
   "cell_type": "code",
   "execution_count": 12,
   "metadata": {},
   "outputs": [
    {
     "data": {
      "text/plain": [
       "LinearRegression(copy_X=True, fit_intercept=True, n_jobs=None,\n",
       "         normalize=False)"
      ]
     },
     "execution_count": 12,
     "metadata": {},
     "output_type": "execute_result"
    }
   ],
   "source": [
    "lnr_reg = LinearRegression()\n",
    "lnr_reg.fit(X_train,y_train)"
   ]
  },
  {
   "cell_type": "code",
   "execution_count": 13,
   "metadata": {},
   "outputs": [
    {
     "data": {
      "image/png": "[encoded data removed]",
      "text/plain": [
       "<Figure size 432x288 with 1 Axes>"
      ]
     },
     "metadata": {
      "needs_background": "light"
     },
     "output_type": "display_data"
    }
   ],
   "source": [
    "fig, ax = plt.subplots()\n",
    "y_pred = lnr_reg.predict(X_test)\n",
    "ax.plot(X_test, y_pred, label = 'Linear regression', color = 'grey', linewidth = 1)\n",
    "ax.scatter(X_test, y_test, color = 'blue', marker = '+', label = 'Test value')\n",
    "ax.scatter(X_test, y_pred, color = 'red', marker = '^', label = 'Predicted value')\n",
    "plt.legend(shadow = True)\n",
    "plt.xlabel(\"Happy frequency\")\n",
    "plt.ylabel(\"Death count\")\n",
    "plt.show()"
   ]
  },
  {
   "cell_type": "code",
   "execution_count": 14,
   "metadata": {},
   "outputs": [
    {
     "data": {
      "image/png": "[encoded data removed]",
      "text/plain": [
       "<Figure size 432x288 with 1 Axes>"
      ]
     },
     "metadata": {
      "needs_background": "light"
     },
     "output_type": "display_data"
    }
   ],
   "source": [
    "residual = y_pred - y_test\n",
    "plt.scatter(X_test*100000, residual)\n",
    "plt.title(\"Residual plot\")\n",
    "plt.xlabel(\"Happy frequency (times 10^7)\")\n",
    "plt.show()"
   ]
  },
  {
   "cell_type": "code",
   "execution_count": 15,
   "metadata": {
    "scrolled": false
   },
   "outputs": [
    {
     "name": "stdout",
     "output_type": "stream",
     "text": [
      "=========================================\n",
      "<Linear Regression Model using happy frequency to predict death count>\n",
      "Coefficient of determination (R^2): 0.759197\n",
      "Root Mean Squared Error (RMSE): 2577.816096\n",
      "=========================================\n"
     ]
    }
   ],
   "source": [
    "print(\"=========================================\")\n",
    "print(\"<Linear Regression Model using happy frequency to predict death count>\")\n",
    "print(\"Coefficient of determination (R^2): {:.6f}\".format(r2_score(y_test, y_pred)))\n",
    "print(\"Root Mean Squared Error (RMSE): {:.6f}\".format(sqrt(mean_squared_error(y_test, y_pred))))\n",
    "print(\"=========================================\")"
   ]
  },
  {
   "cell_type": "code",
   "execution_count": 16,
   "metadata": {},
   "outputs": [],
   "source": [
    "X_train, X_test, y_train, y_test = train_test_split(\n",
    "    X, Death, train_size = 0.8, test_size = 0.2, random_state = 0)"
   ]
  },
  {
   "cell_type": "code",
   "execution_count": 17,
   "metadata": {},
   "outputs": [
    {
     "data": {
      "text/plain": [
       "RandomForestRegressor(bootstrap=True, criterion='mse', max_depth=2,\n",
       "           max_features='auto', max_leaf_nodes=None,\n",
       "           min_impurity_decrease=0.0, min_impurity_split=None,\n",
       "           min_samples_leaf=1, min_samples_split=2,\n",
       "           min_weight_fraction_leaf=0.0, n_estimators=100, n_jobs=None,\n",
       "           oob_score=False, random_state=0, verbose=0, warm_start=False)"
      ]
     },
     "execution_count": 17,
     "metadata": {},
     "output_type": "execute_result"
    }
   ],
   "source": [
    "rfg_reg = RandomForestRegressor(max_depth=2, random_state=0, n_estimators=100)\n",
    "rfg_reg.fit(X_train, y_train)"
   ]
  },
  {
   "cell_type": "code",
   "execution_count": 18,
   "metadata": {},
   "outputs": [
    {
     "data": {
      "image/png": "[encoded data removed]",
      "text/plain": [
       "<Figure size 432x288 with 1 Axes>"
      ]
     },
     "metadata": {
      "needs_background": "light"
     },
     "output_type": "display_data"
    }
   ],
   "source": [
    "y_pred = rfg_reg.predict(X_test)\n",
    "residual = y_pred - y_test\n",
    "plt.scatter(X_test['happy']*10000000, residual)\n",
    "plt.title(\"Residual plot\")\n",
    "plt.xlabel(\"happy frequency times 10^7\")\n",
    "plt.show()"
   ]
  },
  {
   "cell_type": "code",
   "execution_count": 19,
   "metadata": {},
   "outputs": [
    {
     "name": "stdout",
     "output_type": "stream",
     "text": [
      "=========================================\n",
      "<Random Forest Regression using all features to predict Death rate>\n",
      "Coefficient of determination (R^2): 0.738168\n",
      "Root Mean Squared Error (RMSE): 2688.017328\n",
      "=========================================\n"
     ]
    }
   ],
   "source": [
    "print(\"=========================================\")\n",
    "print(\"<Random Forest Regression using all features to predict Death rate>\")\n",
    "print(\"Coefficient of determination (R^2): {:.6f}\".format(r2_score(y_test, y_pred)))\n",
    "print(\"Root Mean Squared Error (RMSE): {:.6f}\".format(sqrt(mean_squared_error(y_test, y_pred))))\n",
    "print(\"=========================================\")"
   ]
  },
  {
   "cell_type": "code",
   "execution_count": 20,
   "metadata": {},
   "outputs": [
    {
     "data": {
      "text/plain": [
       "(9, 50)"
      ]
     },
     "execution_count": 20,
     "metadata": {},
     "output_type": "execute_result"
    }
   ],
   "source": [
    "X_test.shape"
   ]
  },
  {
   "cell_type": "code",
   "execution_count": 21,
   "metadata": {},
   "outputs": [
    {
     "data": {
      "image/png": "[encoded data removed]",
      "text/plain": [
       "<Figure size 432x288 with 1 Axes>"
      ]
     },
     "metadata": {
      "needs_background": "light"
     },
     "output_type": "display_data"
    },
    {
     "data": {
      "text/html": [
       "<div>\n",
       "<style scoped>\n",
       "    .dataframe tbody tr th:only-of-type {\n",
       "        vertical-align: middle;\n",
       "    }\n",
       "\n",
       "    .dataframe tbody tr th {\n",
       "        vertical-align: top;\n",
       "    }\n",
       "\n",
       "    .dataframe thead th {\n",
       "        text-align: right;\n",
       "    }\n",
       "</style>\n",
       "<table border=\"1\" class=\"dataframe\">\n",
       "  <thead>\n",
       "    <tr style=\"text-align: right;\">\n",
       "      <th></th>\n",
       "      <th>happy</th>\n",
       "      <th>sleep</th>\n",
       "      <th>love</th>\n",
       "      <th>like</th>\n",
       "      <th>proud</th>\n",
       "      <th>mad</th>\n",
       "      <th>hurt</th>\n",
       "      <th>content</th>\n",
       "      <th>crazy</th>\n",
       "      <th>sky</th>\n",
       "      <th>...</th>\n",
       "      <th>enchanted</th>\n",
       "      <th>loaded</th>\n",
       "      <th>earnest</th>\n",
       "      <th>complacent</th>\n",
       "      <th>buzzed</th>\n",
       "      <th>thrill</th>\n",
       "      <th>pleased</th>\n",
       "      <th>placid</th>\n",
       "      <th>ornery</th>\n",
       "      <th>Death</th>\n",
       "    </tr>\n",
       "  </thead>\n",
       "  <tbody>\n",
       "    <tr>\n",
       "      <th>0</th>\n",
       "      <td>0.000001</td>\n",
       "      <td>0.042000</td>\n",
       "      <td>0.248848</td>\n",
       "      <td>0.390596</td>\n",
       "      <td>0.021000</td>\n",
       "      <td>0.035700</td>\n",
       "      <td>0.014700</td>\n",
       "      <td>0.00630</td>\n",
       "      <td>0.030450</td>\n",
       "      <td>0.013650</td>\n",
       "      <td>...</td>\n",
       "      <td>0.0</td>\n",
       "      <td>0.00315</td>\n",
       "      <td>0.00000</td>\n",
       "      <td>0.00000</td>\n",
       "      <td>0.00000</td>\n",
       "      <td>0.00105</td>\n",
       "      <td>0.00315</td>\n",
       "      <td>0.00000</td>\n",
       "      <td>0.00000</td>\n",
       "      <td>2021.860911</td>\n",
       "    </tr>\n",
       "    <tr>\n",
       "      <th>1</th>\n",
       "      <td>0.000001</td>\n",
       "      <td>0.043435</td>\n",
       "      <td>0.259553</td>\n",
       "      <td>0.415285</td>\n",
       "      <td>0.037079</td>\n",
       "      <td>0.033901</td>\n",
       "      <td>0.013772</td>\n",
       "      <td>0.00530</td>\n",
       "      <td>0.036020</td>\n",
       "      <td>0.010594</td>\n",
       "      <td>...</td>\n",
       "      <td>0.0</td>\n",
       "      <td>0.00530</td>\n",
       "      <td>0.00106</td>\n",
       "      <td>0.00000</td>\n",
       "      <td>0.00106</td>\n",
       "      <td>0.00106</td>\n",
       "      <td>0.00106</td>\n",
       "      <td>0.00106</td>\n",
       "      <td>0.00000</td>\n",
       "      <td>1470.560550</td>\n",
       "    </tr>\n",
       "    <tr>\n",
       "      <th>2</th>\n",
       "      <td>0.000001</td>\n",
       "      <td>0.035758</td>\n",
       "      <td>0.265473</td>\n",
       "      <td>0.430175</td>\n",
       "      <td>0.026005</td>\n",
       "      <td>0.019504</td>\n",
       "      <td>0.014086</td>\n",
       "      <td>0.00325</td>\n",
       "      <td>0.031423</td>\n",
       "      <td>0.009750</td>\n",
       "      <td>...</td>\n",
       "      <td>0.0</td>\n",
       "      <td>0.00217</td>\n",
       "      <td>0.00000</td>\n",
       "      <td>0.00108</td>\n",
       "      <td>0.00000</td>\n",
       "      <td>0.00000</td>\n",
       "      <td>0.00000</td>\n",
       "      <td>0.00000</td>\n",
       "      <td>0.00000</td>\n",
       "      <td>-367.847825</td>\n",
       "    </tr>\n",
       "    <tr>\n",
       "      <th>3</th>\n",
       "      <td>0.000002</td>\n",
       "      <td>0.060594</td>\n",
       "      <td>0.291318</td>\n",
       "      <td>0.467273</td>\n",
       "      <td>0.019810</td>\n",
       "      <td>0.031462</td>\n",
       "      <td>0.017479</td>\n",
       "      <td>0.00466</td>\n",
       "      <td>0.026801</td>\n",
       "      <td>0.003500</td>\n",
       "      <td>...</td>\n",
       "      <td>0.0</td>\n",
       "      <td>0.00000</td>\n",
       "      <td>0.00000</td>\n",
       "      <td>0.00000</td>\n",
       "      <td>0.00000</td>\n",
       "      <td>0.00117</td>\n",
       "      <td>0.00117</td>\n",
       "      <td>0.00000</td>\n",
       "      <td>0.00233</td>\n",
       "      <td>7902.396769</td>\n",
       "    </tr>\n",
       "    <tr>\n",
       "      <th>4</th>\n",
       "      <td>0.000002</td>\n",
       "      <td>0.052734</td>\n",
       "      <td>0.333601</td>\n",
       "      <td>0.443655</td>\n",
       "      <td>0.026367</td>\n",
       "      <td>0.029806</td>\n",
       "      <td>0.021781</td>\n",
       "      <td>0.00344</td>\n",
       "      <td>0.055027</td>\n",
       "      <td>0.004590</td>\n",
       "      <td>...</td>\n",
       "      <td>0.0</td>\n",
       "      <td>0.00000</td>\n",
       "      <td>0.00000</td>\n",
       "      <td>0.00000</td>\n",
       "      <td>0.00000</td>\n",
       "      <td>0.00115</td>\n",
       "      <td>0.00115</td>\n",
       "      <td>0.00000</td>\n",
       "      <td>0.00000</td>\n",
       "      <td>-1269.265359</td>\n",
       "    </tr>\n",
       "    <tr>\n",
       "      <th>5</th>\n",
       "      <td>0.000001</td>\n",
       "      <td>0.039776</td>\n",
       "      <td>0.277327</td>\n",
       "      <td>0.493885</td>\n",
       "      <td>0.027622</td>\n",
       "      <td>0.019888</td>\n",
       "      <td>0.020993</td>\n",
       "      <td>0.00552</td>\n",
       "      <td>0.030937</td>\n",
       "      <td>0.007730</td>\n",
       "      <td>...</td>\n",
       "      <td>0.0</td>\n",
       "      <td>0.00221</td>\n",
       "      <td>0.00000</td>\n",
       "      <td>0.00000</td>\n",
       "      <td>0.00000</td>\n",
       "      <td>0.00000</td>\n",
       "      <td>0.00110</td>\n",
       "      <td>0.00000</td>\n",
       "      <td>0.00000</td>\n",
       "      <td>-5100.796020</td>\n",
       "    </tr>\n",
       "    <tr>\n",
       "      <th>6</th>\n",
       "      <td>0.000001</td>\n",
       "      <td>0.036985</td>\n",
       "      <td>0.302220</td>\n",
       "      <td>0.399438</td>\n",
       "      <td>0.033815</td>\n",
       "      <td>0.019021</td>\n",
       "      <td>0.012681</td>\n",
       "      <td>0.00106</td>\n",
       "      <td>0.026418</td>\n",
       "      <td>0.010567</td>\n",
       "      <td>...</td>\n",
       "      <td>0.0</td>\n",
       "      <td>0.00211</td>\n",
       "      <td>0.00106</td>\n",
       "      <td>0.00106</td>\n",
       "      <td>0.00000</td>\n",
       "      <td>0.00000</td>\n",
       "      <td>0.00000</td>\n",
       "      <td>0.00000</td>\n",
       "      <td>0.00000</td>\n",
       "      <td>-4062.584107</td>\n",
       "    </tr>\n",
       "    <tr>\n",
       "      <th>7</th>\n",
       "      <td>0.000002</td>\n",
       "      <td>0.056320</td>\n",
       "      <td>0.355940</td>\n",
       "      <td>0.474211</td>\n",
       "      <td>0.023654</td>\n",
       "      <td>0.034918</td>\n",
       "      <td>0.018022</td>\n",
       "      <td>0.00338</td>\n",
       "      <td>0.036045</td>\n",
       "      <td>0.006760</td>\n",
       "      <td>...</td>\n",
       "      <td>0.0</td>\n",
       "      <td>0.00113</td>\n",
       "      <td>0.00000</td>\n",
       "      <td>0.00000</td>\n",
       "      <td>0.00000</td>\n",
       "      <td>0.00000</td>\n",
       "      <td>0.00000</td>\n",
       "      <td>0.00000</td>\n",
       "      <td>0.00000</td>\n",
       "      <td>-6746.689116</td>\n",
       "    </tr>\n",
       "    <tr>\n",
       "      <th>8</th>\n",
       "      <td>0.000001</td>\n",
       "      <td>0.031966</td>\n",
       "      <td>0.265314</td>\n",
       "      <td>0.425142</td>\n",
       "      <td>0.028769</td>\n",
       "      <td>0.027704</td>\n",
       "      <td>0.011721</td>\n",
       "      <td>0.00639</td>\n",
       "      <td>0.028769</td>\n",
       "      <td>0.005330</td>\n",
       "      <td>...</td>\n",
       "      <td>0.0</td>\n",
       "      <td>0.00000</td>\n",
       "      <td>0.00107</td>\n",
       "      <td>0.00000</td>\n",
       "      <td>0.00000</td>\n",
       "      <td>0.00107</td>\n",
       "      <td>0.00107</td>\n",
       "      <td>0.00000</td>\n",
       "      <td>0.00000</td>\n",
       "      <td>820.140507</td>\n",
       "    </tr>\n",
       "  </tbody>\n",
       "</table>\n",
       "<p>9 rows × 51 columns</p>\n",
       "</div>"
      ],
      "text/plain": [
       "      happy     sleep      love      like     proud       mad      hurt  \\\n",
       "0  0.000001  0.042000  0.248848  0.390596  0.021000  0.035700  0.014700   \n",
       "1  0.000001  0.043435  0.259553  0.415285  0.037079  0.033901  0.013772   \n",
       "2  0.000001  0.035758  0.265473  0.430175  0.026005  0.019504  0.014086   \n",
       "3  0.000002  0.060594  0.291318  0.467273  0.019810  0.031462  0.017479   \n",
       "4  0.000002  0.052734  0.333601  0.443655  0.026367  0.029806  0.021781   \n",
       "5  0.000001  0.039776  0.277327  0.493885  0.027622  0.019888  0.020993   \n",
       "6  0.000001  0.036985  0.302220  0.399438  0.033815  0.019021  0.012681   \n",
       "7  0.000002  0.056320  0.355940  0.474211  0.023654  0.034918  0.018022   \n",
       "8  0.000001  0.031966  0.265314  0.425142  0.028769  0.027704  0.011721   \n",
       "\n",
       "   content     crazy       sky     ...       enchanted   loaded  earnest  \\\n",
       "0  0.00630  0.030450  0.013650     ...             0.0  0.00315  0.00000   \n",
       "1  0.00530  0.036020  0.010594     ...             0.0  0.00530  0.00106   \n",
       "2  0.00325  0.031423  0.009750     ...             0.0  0.00217  0.00000   \n",
       "3  0.00466  0.026801  0.003500     ...             0.0  0.00000  0.00000   \n",
       "4  0.00344  0.055027  0.004590     ...             0.0  0.00000  0.00000   \n",
       "5  0.00552  0.030937  0.007730     ...             0.0  0.00221  0.00000   \n",
       "6  0.00106  0.026418  0.010567     ...             0.0  0.00211  0.00106   \n",
       "7  0.00338  0.036045  0.006760     ...             0.0  0.00113  0.00000   \n",
       "8  0.00639  0.028769  0.005330     ...             0.0  0.00000  0.00107   \n",
       "\n",
       "   complacent   buzzed   thrill  pleased   placid   ornery        Death  \n",
       "0     0.00000  0.00000  0.00105  0.00315  0.00000  0.00000  2021.860911  \n",
       "1     0.00000  0.00106  0.00106  0.00106  0.00106  0.00000  1470.560550  \n",
       "2     0.00108  0.00000  0.00000  0.00000  0.00000  0.00000  -367.847825  \n",
       "3     0.00000  0.00000  0.00117  0.00117  0.00000  0.00233  7902.396769  \n",
       "4     0.00000  0.00000  0.00115  0.00115  0.00000  0.00000 -1269.265359  \n",
       "5     0.00000  0.00000  0.00000  0.00110  0.00000  0.00000 -5100.796020  \n",
       "6     0.00106  0.00000  0.00000  0.00000  0.00000  0.00000 -4062.584107  \n",
       "7     0.00000  0.00000  0.00000  0.00000  0.00000  0.00000 -6746.689116  \n",
       "8     0.00000  0.00000  0.00107  0.00107  0.00000  0.00000   820.140507  \n",
       "\n",
       "[9 rows x 51 columns]"
      ]
     },
     "execution_count": 21,
     "metadata": {},
     "output_type": "execute_result"
    }
   ],
   "source": [
    "lasso_reg = Lasso(alpha=0.1)\n",
    "lasso_reg.fit(X_train, y_train)  \n",
    "y_pred = lasso_reg.predict(X_test)\n",
    "residual = y_pred - y_test\n",
    "plt.scatter(X_test['happy']*10000000, residual)\n",
    "plt.title(\"Residual plot\")\n",
    "plt.xlabel(\"happy (times 10^7)\")\n",
    "plt.show()\n",
    "X_test = X_test.set_index(pd.Index([i for i in range(X_test.shape[0])]))\n",
    "\n",
    "residual = pd.DataFrame(residual)\n",
    "residual = residual.set_index(pd.Index([i for i in range(X_test.shape[0])]))\n",
    "output = pd.concat([X_test*100,residual], axis = 1)\n",
    "output"
   ]
  },
  {
   "cell_type": "code",
   "execution_count": 22,
   "metadata": {},
   "outputs": [
    {
     "name": "stdout",
     "output_type": "stream",
     "text": [
      "=========================================\n",
      "<Lasso regression using all features to predict Death rate>\n",
      "Coefficient of determination (R^2): 0.359169\n",
      "Root Mean Squared Error (RMSE): 4205.259211\n",
      "=========================================\n"
     ]
    }
   ],
   "source": [
    "print(\"=========================================\")\n",
    "print(\"<Lasso regression using all features to predict Death rate>\")\n",
    "print(\"Coefficient of determination (R^2): {:.6f}\".format(r2_score(y_test, y_pred)))\n",
    "print(\"Root Mean Squared Error (RMSE): {:.6f}\".format(sqrt(mean_squared_error(y_test, y_pred))))\n",
    "print(\"=========================================\")"
   ]
  },
  {
   "cell_type": "code",
   "execution_count": 23,
   "metadata": {
    "scrolled": true
   },
   "outputs": [
    {
     "name": "stdout",
     "output_type": "stream",
     "text": [
      "=========================================\n",
      "<Logistic regression using all features to predict Death rate with C = 0.001>\n",
      "Coefficient of determination (R^2): -3.560888\n",
      "Root Mean Squared Error (RMSE): 11218.783941\n",
      "=========================================\n",
      "=========================================\n",
      "<Logistic regression using all features to predict Death rate with C = 0.01>\n",
      "Coefficient of determination (R^2): -3.560888\n",
      "Root Mean Squared Error (RMSE): 11218.783941\n",
      "=========================================\n",
      "=========================================\n",
      "<Logistic regression using all features to predict Death rate with C = 0.1>\n",
      "Coefficient of determination (R^2): -3.560888\n",
      "Root Mean Squared Error (RMSE): 11218.783941\n",
      "=========================================\n",
      "=========================================\n",
      "<Logistic regression using all features to predict Death rate with C = 1>\n",
      "Coefficient of determination (R^2): 0.208652\n",
      "Root Mean Squared Error (RMSE): 4673.098365\n",
      "=========================================\n",
      "=========================================\n",
      "<Logistic regression using all features to predict Death rate with C = 10>\n",
      "Coefficient of determination (R^2): -1.301231\n",
      "Root Mean Squared Error (RMSE): 7968.951946\n",
      "=========================================\n"
     ]
    },
    {
     "name": "stderr",
     "output_type": "stream",
     "text": [
      "/Users/lantingli/anaconda3/lib/python3.7/site-packages/sklearn/linear_model/logistic.py:460: FutureWarning: Default multi_class will be changed to 'auto' in 0.22. Specify the multi_class option to silence this warning.\n",
      "  \"this warning.\", FutureWarning)\n",
      "/Users/lantingli/anaconda3/lib/python3.7/site-packages/sklearn/linear_model/logistic.py:460: FutureWarning: Default multi_class will be changed to 'auto' in 0.22. Specify the multi_class option to silence this warning.\n",
      "  \"this warning.\", FutureWarning)\n",
      "/Users/lantingli/anaconda3/lib/python3.7/site-packages/sklearn/linear_model/logistic.py:460: FutureWarning: Default multi_class will be changed to 'auto' in 0.22. Specify the multi_class option to silence this warning.\n",
      "  \"this warning.\", FutureWarning)\n",
      "/Users/lantingli/anaconda3/lib/python3.7/site-packages/sklearn/linear_model/logistic.py:460: FutureWarning: Default multi_class will be changed to 'auto' in 0.22. Specify the multi_class option to silence this warning.\n",
      "  \"this warning.\", FutureWarning)\n",
      "/Users/lantingli/anaconda3/lib/python3.7/site-packages/sklearn/linear_model/logistic.py:460: FutureWarning: Default multi_class will be changed to 'auto' in 0.22. Specify the multi_class option to silence this warning.\n",
      "  \"this warning.\", FutureWarning)\n"
     ]
    }
   ],
   "source": [
    "for C in [0.001,0.01,0.1,1,10]:\n",
    "    log_reg = LogisticRegression(C= C, random_state = 0, solver = 'liblinear')\n",
    "    log_reg.fit(X_train,y_train)\n",
    "    y_pred = log_reg.predict(X_test)\n",
    "    print(\"=========================================\")\n",
    "    print(\"<Logistic regression using all features to predict Death rate with C = {}>\".format(C))\n",
    "    print(\"Coefficient of determination (R^2): {:.6f}\".format(r2_score(y_test, y_pred)))\n",
    "    print(\"Root Mean Squared Error (RMSE): {:.6f}\".format(sqrt(mean_squared_error(y_test, y_pred))))\n",
    "    print(\"=========================================\")\n",
    "#residual = y_pred - y_test\n",
    "#plt.scatter(X_test['happy']*100000, residual)\n",
    "#plt.title(\"Residual plot\")\n",
    "#plt.xlabel(\"happy (times 10^7)\")\n",
    "#plt.show()\n"
   ]
  },
  {
   "cell_type": "code",
   "execution_count": 24,
   "metadata": {},
   "outputs": [
    {
     "name": "stdout",
     "output_type": "stream",
     "text": [
      "=========================================\n",
      "<Gaussian process regression using all features to predict Death rate>\n",
      "Coefficient of determination (R^2): 0.121400\n",
      "Root Mean Squared Error (RMSE): 4923.983852\n",
      "=========================================\n"
     ]
    }
   ],
   "source": [
    "gpr = GaussianProcessRegressor()\n",
    "gpr.fit(X_train, y_train)\n",
    "y_pred = gpr.predict(X_test)\n",
    "print(\"=========================================\")\n",
    "print(\"<Gaussian process regression using all features to predict Death rate>\")\n",
    "print(\"Coefficient of determination (R^2): {:.6f}\".format(r2_score(y_test, y_pred)))\n",
    "print(\"Root Mean Squared Error (RMSE): {:.6f}\".format(sqrt(mean_squared_error(y_test, y_pred))))\n",
    "print(\"=========================================\")"
   ]
  },
  {
   "cell_type": "code",
   "execution_count": 25,
   "metadata": {},
   "outputs": [
    {
     "data": {
      "image/png": "[encoded data removed]",
      "text/plain": [
       "<Figure size 432x288 with 1 Axes>"
      ]
     },
     "metadata": {
      "needs_background": "light"
     },
     "output_type": "display_data"
    }
   ],
   "source": [
    "residual = y_pred - y_test\n",
    "plt.scatter(X_test['happy']*10000000, residual)\n",
    "plt.title(\"Residual plot\")\n",
    "plt.xlabel(\"happy (times 10^7)\")\n",
    "plt.show()"
   ]
  },
  {
   "cell_type": "code",
   "execution_count": 26,
   "metadata": {},
   "outputs": [
    {
     "name": "stdout",
     "output_type": "stream",
     "text": [
      "=========================================\n",
      "<Stochastic Gradient Descent Regressor using all features to predict Death count>\n",
      "Coefficient of determination (R^2): -48.939072\n",
      "Root Mean Squared Error (RMSE): 37122.849910\n",
      "=========================================\n"
     ]
    },
    {
     "name": "stderr",
     "output_type": "stream",
     "text": [
      "/Users/lantingli/anaconda3/lib/python3.7/site-packages/sklearn/linear_model/stochastic_gradient.py:166: FutureWarning: max_iter and tol parameters have been added in SGDRegressor in 0.19. If both are left unset, they default to max_iter=5 and tol=None. If tol is not None, max_iter defaults to max_iter=1000. From 0.21, default max_iter will be 1000, and default tol will be 1e-3.\n",
      "  FutureWarning)\n"
     ]
    }
   ],
   "source": [
    "sgd = SGDRegressor()\n",
    "sgd.fit(X_train, y_train)\n",
    "y_pred = sgd.predict(X_test)\n",
    "print(\"=========================================\")\n",
    "print(\"<Stochastic Gradient Descent Regressor using all features to predict Death count>\")\n",
    "print(\"Coefficient of determination (R^2): {:.6f}\".format(r2_score(y_test, y_pred)))\n",
    "print(\"Root Mean Squared Error (RMSE): {:.6f}\".format(sqrt(mean_squared_error(y_test, y_pred))))\n",
    "print(\"=========================================\")"
   ]
  },
  {
   "cell_type": "code",
   "execution_count": 27,
   "metadata": {},
   "outputs": [
    {
     "name": "stdout",
     "output_type": "stream",
     "text": [
      "=========================================\n",
      "<Multi-layer perceptron regressor using all features to predict Death count>\n",
      "Coefficient of determination (R^2): -156.288127\n",
      "Root Mean Squared Error (RMSE): 65882.344827\n",
      "=========================================\n"
     ]
    },
    {
     "name": "stderr",
     "output_type": "stream",
     "text": [
      "/Users/lantingli/anaconda3/lib/python3.7/site-packages/sklearn/neural_network/multilayer_perceptron.py:562: ConvergenceWarning: Stochastic Optimizer: Maximum iterations (200) reached and the optimization hasn't converged yet.\n",
      "  % self.max_iter, ConvergenceWarning)\n"
     ]
    }
   ],
   "source": [
    "mlp = MLPRegressor(random_state = 0)\n",
    "mlp.fit(X_train, y_train)\n",
    "y_pred = mlp.predict(X_test)\n",
    "print(\"=========================================\")\n",
    "print(\"<Multi-layer perceptron regressor using all features to predict Death count>\")\n",
    "print(\"Coefficient of determination (R^2): {:.6f}\".format(r2_score(y_test, y_pred)))\n",
    "print(\"Root Mean Squared Error (RMSE): {:.6f}\".format(sqrt(mean_squared_error(y_test, y_pred))))\n",
    "print(\"=========================================\")"
   ]
  },
  {
   "cell_type": "code",
   "execution_count": null,
   "metadata": {},
   "outputs": [],
   "source": []
  }
 ],
 "metadata": {
  "kernelspec": {
   "display_name": "Python 3",
   "language": "python",
   "name": "python3"
  },
  "language_info": {
   "codemirror_mode": {
    "name": "ipython",
    "version": 3
   },
   "file_extension": ".py",
   "mimetype": "text/x-python",
   "name": "python",
   "nbconvert_exporter": "python",
   "pygments_lexer": "ipython3",
   "version": "3.7.4"
  }
 },
 "nbformat": 4,
 "nbformat_minor": 2
}
